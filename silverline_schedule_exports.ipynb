{
 "cells": [
  {
   "cell_type": "code",
   "execution_count": 3,
   "id": "f5533d1d",
   "metadata": {},
   "outputs": [],
   "source": [
    "from gtfslib import GTFS\n",
    "gtfs = GTFS(\"data/dart_gtfs_silverlineopening.zip\")\n",
    "\n",
    "import pandas as pd\n",
    "from pathlib import Path\n",
    "\n",
    "export_folder = Path(\"export/silverline_schedules\")\n",
    "export_folder.mkdir(parents=True, exist_ok=True)\n",
    "\n",
    "stations = {\n",
    "    \"DFW Terminal B\": \"33473\",\n",
    "    \"DFW Airport North\": \"33474\",\n",
    "    \"Cypress Waters\": \"33595\",\n",
    "    \"Downtown Carrollton\": \"34292\",\n",
    "    \"Addison\": \"33596\",\n",
    "    \"Knoll Trail\": \"33597\",\n",
    "    \"UTD\": \"33598\",\n",
    "    \"CityLine Bush\": \"26895\",\n",
    "    \"12th Street\": \"34293\",\n",
    "    \"Shiloh Road\": \"33600\",\n",
    "}\n",
    "dates = [(\"openingday\", \"20251025\"), (\"weekday\", \"20251028\"), (\"weekend\", \"20251108\")]"
   ]
  },
  {
   "cell_type": "markdown",
   "id": "832af6ee",
   "metadata": {},
   "source": [
    "Generate departure timetable CSVs for each station"
   ]
  },
  {
   "cell_type": "code",
   "execution_count": null,
   "id": "9f6a9f6a",
   "metadata": {},
   "outputs": [],
   "source": [
    "for folder, date in dates:\n",
    "    (export_folder / folder).mkdir(exist_ok=True)\n",
    "    timetables = pd.DataFrame()\n",
    "    for name, stop_id in stations.items():\n",
    "        timetable = gtfs.build_stop_timetable(stop_id, [date])\n",
    "        timetable[\"station\"] = name\n",
    "        timetable = timetable[[\"station\", \"trip_headsign\", \"departure_time\", \"block_id\"]]\n",
    "        timetable.columns = [\"Station\", \"Destination\", \"Departure Time\", \"Train ID\"]\n",
    "        # CityLine Bush also serves light rail, so export all trains for that station separately\n",
    "        if name == \"CityLine Bush\":\n",
    "            timetable_all = timetable.copy()\n",
    "            timetable_all.to_csv(export_folder / folder / f\"{name.lower().replace(' ', '_')}_{folder}_{date}_alltrains.csv\", index=False)\n",
    "            timetable = timetable[timetable[\"Destination\"].str.contains(\"SILVER LINE\")]\n",
    "        timetable.to_csv(export_folder / folder / f\"{name.lower().replace(' ', '_')}_{folder}_{date}.csv\", index=False)\n",
    "        timetables = pd.concat([timetables, timetable])\n",
    "    timetables.to_csv(export_folder / folder / f\"all_stations_combined_{folder}_{date}.csv\", index=False)"
   ]
  },
  {
   "cell_type": "markdown",
   "id": "bd7bcbb9",
   "metadata": {},
   "source": [
    "Generate combined destination timetables"
   ]
  },
  {
   "cell_type": "code",
   "execution_count": 7,
   "id": "289b3561",
   "metadata": {},
   "outputs": [],
   "source": [
    "from collections import defaultdict\n",
    "import csv\n",
    "\n",
    "def parse_time(t):\n",
    "    h, m, _ = map(int, t.split(\":\"))\n",
    "    if h >= 24:\n",
    "        h -= 24\n",
    "    suffix = \"AM\" if h < 12 else \"PM\"\n",
    "    h %= 12\n",
    "    if h == 0:\n",
    "        h = 12\n",
    "    return f\"{h}:{m:02d} {suffix}\"\n",
    "\n",
    "for folder, date in dates:\n",
    "    departures = defaultdict(lambda: defaultdict(list))\n",
    "    for row in csv.DictReader((export_folder / folder / f\"all_stations_combined_{folder}_{date}.csv\").open()):\n",
    "        departures[row[\"Destination\"]][row[\"Station\"]].append(row[\"Departure Time\"])\n",
    "\n",
    "    for destination, stations in departures.items():\n",
    "        if \"WEST\" in destination:\n",
    "            destination = \"westbound\"\n",
    "        else:\n",
    "            destination = \"eastbound\"\n",
    "        rows = []\n",
    "        for station, times in stations.items():\n",
    "            row = [station] + list(map(parse_time, times))\n",
    "            rows.append(row)\n",
    "        if destination == \"westbound\":\n",
    "            rows = rows[::-1]\n",
    "        pd.DataFrame(rows).transpose().to_csv(export_folder / f\"destination_{destination}_{folder}_{date}.csv\", index=False, header=False)"
   ]
  }
 ],
 "metadata": {
  "kernelspec": {
   "display_name": "3.10.13",
   "language": "python",
   "name": "python3"
  },
  "language_info": {
   "codemirror_mode": {
    "name": "ipython",
    "version": 3
   },
   "file_extension": ".py",
   "mimetype": "text/x-python",
   "name": "python",
   "nbconvert_exporter": "python",
   "pygments_lexer": "ipython3",
   "version": "3.10.13"
  }
 },
 "nbformat": 4,
 "nbformat_minor": 5
}
